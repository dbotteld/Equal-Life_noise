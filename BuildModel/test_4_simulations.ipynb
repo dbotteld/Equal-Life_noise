{
 "cells": [
  {
   "cell_type": "code",
   "execution_count": 16,
   "metadata": {},
   "outputs": [],
   "source": [
    "import numpy as np\n",
    "import matplotlib.pyplot as plt\n",
    "from sklearn.preprocessing import StandardScaler, MinMaxScaler\n",
    "import pickle\n",
    "from shapely.geometry import Point, LineString, Polygon\n",
    "from shapely.affinity import rotate\n",
    "from shapely.ops import transform\n",
    "from shapely import wkb\n"
   ]
  },
  {
   "cell_type": "code",
   "execution_count": 17,
   "metadata": {
    "scrolled": true
   },
   "outputs": [
    {
     "name": "stdout",
     "output_type": "stream",
     "text": [
      "(3828, 452)\n",
      "(3828, 17)\n",
      "(3828,)\n"
     ]
    }
   ],
   "source": [
    "output_features_def8 = np.load(\"output_features_def2001-3000PBF_sc2.npy\")\n",
    "input_data8 = np.load(\"input_data2001-3000PBF_sc2.npy\")\n",
    "input_geom = np.load(\"input_datageom2001-3000PBF_sc2.npy\",allow_pickle=True)\n",
    "print(input_data8.shape)\n",
    "print(output_features_def8.shape)\n",
    "print(input_geom.shape)"
   ]
  },
  {
   "cell_type": "code",
   "execution_count": 18,
   "metadata": {},
   "outputs": [
    {
     "data": {
      "text/plain": [
       "array([[0.23239349, 0.19232643, 0.10131134, 0.24242492],\n",
       "       [0.23239349, 0.19232643, 0.10131134, 0.24242492],\n",
       "       [0.23239349, 0.19232643, 0.10131134, 0.24242492],\n",
       "       [0.23239349, 0.19232643, 0.10131134, 0.24242492],\n",
       "       [0.01483601, 0.00168233, 0.00062237, 0.00141314]])"
      ]
     },
     "execution_count": 18,
     "metadata": {},
     "output_type": "execute_result"
    }
   ],
   "source": [
    "input_data8[0:5,0:4]"
   ]
  },
  {
   "cell_type": "code",
   "execution_count": 19,
   "metadata": {},
   "outputs": [
    {
     "data": {
      "text/plain": [
       "array([[36.757053, 27.735605, 19.704256, 21.945917],\n",
       "       [39.318275, 30.363415, 19.704256, 23.4406  ],\n",
       "       [39.028652, 29.74101 , 19.704256, 22.019955],\n",
       "       [40.638355, 31.940004, 19.704256, 23.168268],\n",
       "       [35.921825, 20.62269 , 20.62269 , 16.660501]], dtype=float32)"
      ]
     },
     "execution_count": 19,
     "metadata": {},
     "output_type": "execute_result"
    }
   ],
   "source": [
    "output_features_def8[0:5,0:4]"
   ]
  },
  {
   "cell_type": "code",
   "execution_count": 20,
   "metadata": {},
   "outputs": [
    {
     "data": {
      "text/plain": [
       "array([<shapely.geometry.point.Point object at 0x0000016970B0DA30>,\n",
       "       <shapely.geometry.point.Point object at 0x0000016970B0DA60>,\n",
       "       <shapely.geometry.point.Point object at 0x0000016970B0DFA0>,\n",
       "       <shapely.geometry.point.Point object at 0x0000016970B0DEE0>,\n",
       "       <shapely.geometry.point.Point object at 0x0000016970B0DA90>],\n",
       "      dtype=object)"
      ]
     },
     "execution_count": 20,
     "metadata": {},
     "output_type": "execute_result"
    }
   ],
   "source": [
    "input_geom[0:5]"
   ]
  },
  {
   "cell_type": "code",
   "execution_count": 24,
   "metadata": {},
   "outputs": [
    {
     "data": {
      "image/svg+xml": [
       "<svg xmlns=\"http://www.w3.org/2000/svg\" xmlns:xlink=\"http://www.w3.org/1999/xlink\" width=\"100.0\" height=\"100.0\" viewBox=\"193869.4116794315 162956.0089475317 2.0 2.0\" preserveAspectRatio=\"xMinYMin meet\"><g transform=\"matrix(1,0,0,-1,0,325914.0178950634)\"><circle cx=\"193870.4116794315\" cy=\"162957.0089475317\" r=\"0.06\" stroke=\"#555555\" stroke-width=\"0.02\" fill=\"#66cc99\" opacity=\"0.6\" /></g></svg>"
      ],
      "text/plain": [
       "<shapely.geometry.point.Point at 0x16970b0da90>"
      ]
     },
     "execution_count": 24,
     "metadata": {},
     "output_type": "execute_result"
    }
   ],
   "source": [
    "input_geom[0]\n",
    "input_geom[1]\n",
    "input_geom[2]\n",
    "input_geom[3]\n",
    "input_geom[4]"
   ]
  },
  {
   "cell_type": "code",
   "execution_count": 67,
   "metadata": {},
   "outputs": [
    {
     "name": "stderr",
     "output_type": "stream",
     "text": [
      "C:\\Users\\botteldo\\AppData\\Local\\Temp\\10\\ipykernel_2000\\217778337.py:6: DeprecationWarning: `np.int` is a deprecated alias for the builtin `int`. To silence this warning, use `int` by itself. Doing this will not modify any behavior and is safe. When replacing `np.int`, you may wish to use e.g. `np.int64` or `np.int32` to specify the precision. If you wish to review your current use, check the release note link for additional information.\n",
      "Deprecated in NumPy 1.20; for more details and guidance: https://numpy.org/devdocs/release/1.20.0-notes.html#deprecations\n",
      "  Nsamples = np.int(output_features_def8.shape[0]/4)\n"
     ]
    },
    {
     "data": {
      "text/plain": [
       "Text(0, 0.5, 'ETLA50+3')"
      ]
     },
     "execution_count": 67,
     "metadata": {},
     "output_type": "execute_result"
    },
    {
     "data": {
      "image/png": "[encoded data removed]",
      "text/plain": [
       "<Figure size 640x480 with 1 Axes>"
      ]
     },
     "metadata": {},
     "output_type": "display_data"
    }
   ],
   "source": [
    "#create x-axis and plot\n",
    "feature = 5\n",
    "plot_to = 100\n",
    "\n",
    "ml_cols = [\"LAeq\", \"LA50\", \"LA90\", \"LA10-LA90\", \"IntRatio\", \"ETLA50+3\", \"ETLA50+10\", \"CoG_125_8k\", \"N\", \"N50\", \"N90\", \"S05\", \"S10\", \"PSD_0_3\", \"PSD_3_6\", \"PSD_6_12\", \"PSD_12_18\"]\n",
    "Nsamples = np.int(output_features_def8.shape[0]/4)\n",
    "x = np.zeros((Nsamples*4,1))\n",
    "xmm = np.zeros((Nsamples,1))\n",
    "ymin = np.zeros((Nsamples,output_features_def8.shape[1]))\n",
    "ymax = np.zeros((Nsamples,output_features_def8.shape[1]))\n",
    "for isample in range(0,Nsamples):\n",
    "    x[isample*4:isample*4+4] = isample\n",
    "    xmm[isample] = isample\n",
    "    ymin[isample,:] = output_features_def8[isample*4:isample*4+4,:].min(axis=0)\n",
    "    ymax[isample,:] = output_features_def8[isample*4:isample*4+4,:].max(axis=0)\n",
    "\n",
    "plt.plot(x[0:plot_to*4],output_features_def8[0:plot_to*4,feature],'.')\n",
    "plt.vlines( x=xmm[0:plot_to], ymin=ymin[0:plot_to,feature], ymax=ymax[0:plot_to,feature], colors = 'green')\n",
    "plt.ylabel(ml_cols[feature], fontsize = 'x-large')"
   ]
  },
  {
   "cell_type": "code",
   "execution_count": 31,
   "metadata": {},
   "outputs": [
    {
     "data": {
      "text/plain": [
       "array([[0.],\n",
       "       [0.],\n",
       "       [0.],\n",
       "       [1.],\n",
       "       [1.],\n",
       "       [1.],\n",
       "       [1.],\n",
       "       [2.],\n",
       "       [2.]])"
      ]
     },
     "execution_count": 31,
     "metadata": {},
     "output_type": "execute_result"
    }
   ],
   "source": [
    "x[1:10]"
   ]
  },
  {
   "cell_type": "code",
   "execution_count": null,
   "metadata": {},
   "outputs": [],
   "source": []
  }
 ],
 "metadata": {
  "kernelspec": {
   "display_name": "ml_model",
   "language": "python",
   "name": "ml_model"
  },
  "language_info": {
   "codemirror_mode": {
    "name": "ipython",
    "version": 3
   },
   "file_extension": ".py",
   "mimetype": "text/x-python",
   "name": "python",
   "nbconvert_exporter": "python",
   "pygments_lexer": "ipython3",
   "version": "3.9.15"
  }
 },
 "nbformat": 4,
 "nbformat_minor": 2
}
